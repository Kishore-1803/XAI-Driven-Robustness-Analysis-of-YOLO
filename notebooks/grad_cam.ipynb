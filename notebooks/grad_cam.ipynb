{
 "cells": [
  {
   "cell_type": "code",
   "execution_count": null,
   "id": "daae7af2",
   "metadata": {},
   "outputs": [],
   "source": [
    "import ultralytics\n",
    "from ultralytics import YOLO"
   ]
  },
  {
   "cell_type": "code",
   "execution_count": null,
   "id": "a8da2873",
   "metadata": {},
   "outputs": [],
   "source": [
    "import cv2 \n",
    "import numpy as np \n",
    "import matplotlib.pyplot as plt \n",
    "from PIL import Image \n",
    "\n",
    "import warnings \n",
    "warnings.filterwarnings('ignore')\n",
    "warnings.simplefilter('ignore')  # Suppress Matplotlib warnings"
   ]
  },
  {
   "cell_type": "code",
   "execution_count": null,
   "id": "fa25064b",
   "metadata": {},
   "outputs": [],
   "source": [
    "plt.rcParams[\"figure.figsize\"] = [3.0, 3.0]"
   ]
  },
  {
   "cell_type": "code",
   "execution_count": null,
   "id": "7a58d7fc",
   "metadata": {},
   "outputs": [],
   "source": [
    "from yolo_cam.eigen_cam import EigenCAM\n",
    "from yolo_cam.utils.image import show_cam_on_image, scale_cam_image"
   ]
  },
  {
   "cell_type": "markdown",
   "id": "a7365821",
   "metadata": {},
   "source": [
    "# For the classification model"
   ]
  },
  {
   "cell_type": "code",
   "execution_count": null,
   "id": "34646a36",
   "metadata": {
    "scrolled": true
   },
   "outputs": [],
   "source": [
    "img = cv2.imread('PATH_TO_IMAGE')\n",
    "img = cv2.resize(img, (640, 640))\n",
    "rgb_img = img.copy()\n",
    "img = np.float32(img) / 255"
   ]
  },
  {
   "cell_type": "code",
   "execution_count": null,
   "id": "34c6b3b6",
   "metadata": {},
   "outputs": [],
   "source": [
    "model = YOLO('PATH_TO_BEST_PT')\n",
    "model = model.cpu()"
   ]
  },
  {
   "cell_type": "code",
   "execution_count": null,
   "id": "5b220792-0051-4423-90e8-eaed0cee3c8d",
   "metadata": {},
   "outputs": [],
   "source": [
    "target_layers =[model.model.model[-2], model.model.model[-3], model.model.model[-4]]"
   ]
  },
  {
   "cell_type": "code",
   "execution_count": null,
   "id": "6150b2af-5837-4c39-85b4-a650bc9d12a0",
   "metadata": {},
   "outputs": [],
   "source": [
    "cam = EigenCAM(model, target_layers,task='cls')\n",
    "grayscale_cam = cam(rgb_img)[0, :, :]\n",
    "cam_image = show_cam_on_image(img, grayscale_cam, use_rgb=True)\n",
    "plt.imshow(cam_image)\n",
    "plt.show()"
   ]
  },
  {
   "cell_type": "code",
   "execution_count": null,
   "id": "fa86ff21",
   "metadata": {},
   "outputs": [],
   "source": [
    "g_scale = cv2.resize(np.stack([grayscale_cam] * 3, axis=2), (224,224))\n",
    "\n",
    "plt.imshow(g_scale, cmap='gray')\n",
    "plt.show()"
   ]
  },
  {
   "cell_type": "code",
   "execution_count": null,
   "id": "1d9cd2e7",
   "metadata": {},
   "outputs": [],
   "source": [
    "im = cv2.cvtColor(rgb_img, cv2.COLOR_RGB2BGR)\n",
    "Image.fromarray(np.hstack((im, cam_image)))"
   ]
  },
  {
   "cell_type": "markdown",
   "id": "a57f5a5d",
   "metadata": {},
   "source": [
    "# For the object detection model"
   ]
  },
  {
   "cell_type": "code",
   "execution_count": null,
   "id": "b19531b8",
   "metadata": {},
   "outputs": [],
   "source": [
    "model = YOLO('PATH_TO_BEST_PT')\n",
    "model = model.cpu()"
   ]
  },
  {
   "cell_type": "code",
   "execution_count": null,
   "id": "b8a415b0",
   "metadata": {},
   "outputs": [],
   "source": [
    "img = cv2.imread('PATH_TO_IMAGE')\n",
    "img = cv2.resize(img, (640, 640))\n",
    "rgb_img = img.copy()\n",
    "img = np.float32(img) / 255"
   ]
  },
  {
   "cell_type": "code",
   "execution_count": null,
   "id": "86788a20",
   "metadata": {},
   "outputs": [],
   "source": [
    "target_layers =[model.model.model[-2], model.model.model[-3], model.model.model[-4]]"
   ]
  },
  {
   "cell_type": "code",
   "execution_count": null,
   "id": "d80f3b37",
   "metadata": {},
   "outputs": [],
   "source": [
    "cam = EigenCAM(model, target_layers,task='od')\n",
    "grayscale_cam = cam(rgb_img)[0, :, :]\n",
    "cam_image = show_cam_on_image(img, grayscale_cam, use_rgb=True)\n",
    "plt.imshow(cam_image)\n",
    "plt.show()"
   ]
  },
  {
   "cell_type": "code",
   "execution_count": null,
   "id": "104f5495",
   "metadata": {},
   "outputs": [],
   "source": [
    "import matplotlib.pyplot as plt\n",
    "g_scale = np.stack([grayscale_cam] * 3, axis=2)\n",
    "plt.imshow(g_scale)"
   ]
  },
  {
   "cell_type": "code",
   "execution_count": null,
   "id": "fe8a435e",
   "metadata": {},
   "outputs": [],
   "source": [
    "im = cv2.cvtColor(rgb_img, cv2.COLOR_RGB2BGR)\n",
    "Image.fromarray(np.hstack((im, cam_image)))"
   ]
  },
  {
   "cell_type": "code",
   "execution_count": null,
   "id": "5504e301",
   "metadata": {},
   "outputs": [],
   "source": [
    "def doMultiScaleCAM(modelPath, imagePath, modelIndexes=[16,19,22]):\n",
    "    model = YOLO(modelPath)\n",
    "    model = model.cpu()\n",
    "    img = cv2.imread(imagePath)\n",
    "    img = cv2.resize(img, (640, 640))\n",
    "    rgb_img = img.copy()\n",
    "    img = np.float32(img) / 255\n",
    "    for i in modelIndexes:\n",
    "        target_layers =[model.model.model[i]]\n",
    "        cam = EigenCAM(model, target_layers,task='od')\n",
    "        grayscale_cam = cam(rgb_img)[0, :, :]\n",
    "        cam_image = show_cam_on_image(img, grayscale_cam, use_rgb=True)\n",
    "        plt.imshow(cam_image)\n",
    "        plt.show()\n",
    "    im = cv2.cvtColor(rgb_img, cv2.COLOR_BGR2RGB)\n",
    "    res = model(rgb_img)[0]\n",
    "    res = cv2.cvtColor(res.plot(), cv2.COLOR_BGR2RGB)\n",
    "    return Image.fromarray(np.hstack((im,res)))"
   ]
  },
  {
   "cell_type": "code",
   "execution_count": null,
   "id": "3da5a780",
   "metadata": {},
   "outputs": [],
   "source": [
    "doMultiScaleCAM('PATH_TO_BEST_PT', 'PATH_TO_IMAGE')"
   ]
  },
  {
   "cell_type": "markdown",
   "id": "2c2dd55e-47ff-4df2-947c-9b92a72124da",
   "metadata": {},
   "source": [
    "# For the segmentation model"
   ]
  },
  {
   "cell_type": "code",
   "execution_count": null,
   "id": "1c738728-3593-4728-9200-87c28a3fbd25",
   "metadata": {},
   "outputs": [],
   "source": [
    "model = YOLO('PATH_TO_BEST_PT')\n",
    "model = model.cpu()"
   ]
  },
  {
   "cell_type": "code",
   "execution_count": null,
   "id": "db84ea4c-f5b5-471c-92c1-f2f1435f68a2",
   "metadata": {},
   "outputs": [],
   "source": [
    "img = cv2.imread('PATH_TO_IMAGE')\n",
    "img = cv2.resize(img, (640, 640))\n",
    "rgb_img = img.copy()\n",
    "img = np.float32(img) / 255"
   ]
  },
  {
   "cell_type": "code",
   "execution_count": null,
   "id": "888f1d73-0bdf-424d-aef5-15b1091404f8",
   "metadata": {},
   "outputs": [],
   "source": [
    "target_layers =[model.model.model[-4]]"
   ]
  },
  {
   "cell_type": "code",
   "execution_count": null,
   "id": "c8f37d6b",
   "metadata": {},
   "outputs": [],
   "source": [
    "results = model(rgb_img)"
   ]
  },
  {
   "cell_type": "code",
   "execution_count": null,
   "id": "2847049f",
   "metadata": {},
   "outputs": [],
   "source": [
    "results[0].summary()[0].keys()"
   ]
  },
  {
   "cell_type": "code",
   "execution_count": null,
   "id": "bda49440-39bf-4667-9341-54cc9a4abe8e",
   "metadata": {},
   "outputs": [],
   "source": [
    "cam = EigenCAM(model, target_layers,task='seg')\n",
    "grayscale_cam = cam(rgb_img)[0, :, :]\n",
    "cam_image = show_cam_on_image(img, grayscale_cam, use_rgb=True)\n",
    "plt.imshow(cam_image)\n",
    "plt.show()"
   ]
  },
  {
   "cell_type": "code",
   "execution_count": null,
   "id": "41fc9233-ef9d-4d79-b5cd-a451844c0dbe",
   "metadata": {},
   "outputs": [],
   "source": [
    "import matplotlib.pyplot as plt\n",
    "g_scale = np.stack([grayscale_cam] * 3, axis=2)\n",
    "plt.imshow(g_scale)"
   ]
  },
  {
   "cell_type": "code",
   "execution_count": null,
   "id": "bb094a9b-c11d-4367-b7b2-f0a7ba156052",
   "metadata": {},
   "outputs": [],
   "source": [
    "im = cv2.cvtColor(rgb_img, cv2.COLOR_RGB2BGR)\n",
    "Image.fromarray(np.hstack((im, cam_image)))"
   ]
  }
 ],
 "metadata": {
  "kernelspec": {
   "display_name": "Python 3",
   "language": "python",
   "name": "python3"
  },
  "language_info": {
   "codemirror_mode": {
    "name": "ipython",
    "version": 3
   },
   "file_extension": ".py",
   "mimetype": "text/x-python",
   "name": "python",
   "nbconvert_exporter": "python",
   "pygments_lexer": "ipython3",
   "version": "3.12.9"
  }
 },
 "nbformat": 4,
 "nbformat_minor": 5
}
