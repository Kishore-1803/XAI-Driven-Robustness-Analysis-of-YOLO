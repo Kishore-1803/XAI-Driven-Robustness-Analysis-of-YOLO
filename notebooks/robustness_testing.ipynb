{
 "cells": [
  {
   "cell_type": "code",
   "execution_count": null,
   "id": "600683d2",
   "metadata": {},
   "outputs": [],
   "source": [
    "import torch\n",
    "import cv2\n",
    "import numpy as np\n",
    "import matplotlib.pyplot as plt\n",
    "from ultralytics import YOLO\n",
    "model = YOLO(\"PATH_TO_BEST_PT\")\n",
    "img_path = \"PATH_TO_PROCESSED_IMAGE\"\n",
    "orig_img = cv2.imread(img_path)\n",
    "orig_img = cv2.cvtColor(orig_img, cv2.COLOR_BGR2RGB)"
   ]
  },
  {
   "cell_type": "code",
   "execution_count": null,
   "id": "fedf9fe0",
   "metadata": {},
   "outputs": [],
   "source": [
    "def show_img(img, title=\"\"):\n",
    "    plt.figure(figsize=(6,6))\n",
    "    plt.imshow(img)\n",
    "    plt.title(title)\n",
    "    plt.axis(\"off\")\n",
    "    plt.show()\n",
    "show_img(orig_img, \"Original Image\")"
   ]
  },
  {
   "cell_type": "code",
   "execution_count": null,
   "id": "1abb7ef5",
   "metadata": {},
   "outputs": [],
   "source": [
    "def run_inference(image, title=\"Result\"):\n",
    "    results = model(image)\n",
    "    annotated = results[0].plot()\n",
    "    annotated = cv2.cvtColor(annotated, cv2.COLOR_BGR2RGB)\n",
    "    show_img(annotated, title)\n",
    "    return results[0]"
   ]
  },
  {
   "cell_type": "code",
   "execution_count": null,
   "id": "bda22843",
   "metadata": {},
   "outputs": [],
   "source": [
    "def add_gaussian_noise(img, mean=0, std=25):\n",
    "    noise = np.random.normal(mean, std, img.shape).astype(np.float32)\n",
    "    noisy = np.clip(img + noise, 0, 255).astype(np.uint8)\n",
    "    return noisy\n",
    "\n",
    "def add_salt_pepper_noise(img, prob=0.02):\n",
    "    noisy = img.copy()\n",
    "    mask = np.random.rand(*img.shape[:2])\n",
    "    noisy[mask < prob/2] = 0\n",
    "    noisy[mask > 1 - prob/2] = 255\n",
    "    return noisy\n",
    "\n",
    "def change_brightness(img, factor=1.5):\n",
    "    hsv = cv2.cvtColor(img, cv2.COLOR_RGB2HSV)\n",
    "    hsv = np.array(hsv, dtype=np.float64)\n",
    "    hsv[:,:,2] = hsv[:,:,2]*factor\n",
    "    hsv[:,:,2][hsv[:,:,2]>255] = 255\n",
    "    hsv = np.array(hsv, dtype=np.uint8)\n",
    "    return cv2.cvtColor(hsv, cv2.COLOR_HSV2RGB)\n",
    "\n",
    "def apply_blur(img, ksize=15):\n",
    "    return cv2.GaussianBlur(img, (ksize,ksize), 0)\n",
    "\n",
    "def rotate_image(img, angle=30):\n",
    "    h, w = img.shape[:2]\n",
    "    M = cv2.getRotationMatrix2D((w//2,h//2), angle, 1)\n",
    "    return cv2.warpAffine(img, M, (w,h))\n",
    "\n",
    "def occlude_image(img, size=80):\n",
    "    occluded = img.copy()\n",
    "    h, w = img.shape[:2]\n",
    "    x, y = np.random.randint(0, w-size), np.random.randint(0, h-size)\n",
    "    occluded[y:y+size, x:x+size] = 0\n",
    "    return occluded"
   ]
  },
  {
   "cell_type": "code",
   "execution_count": null,
   "id": "4dba9b9d",
   "metadata": {},
   "outputs": [],
   "source": [
    "def compute_iou(box1, box2):\n",
    "    x1 = max(box1[0], box2[0])\n",
    "    y1 = max(box1[1], box2[1])\n",
    "    x2 = min(box1[2], box2[2])\n",
    "    y2 = min(box1[3], box2[3])\n",
    "    inter_area = max(0, x2 - x1) * max(0, y2 - y1)\n",
    "    box1_area = (box1[2] - box1[0]) * (box1[3] - box1[1])\n",
    "    box2_area = (box2[2] - box2[0]) * (box2[3] - box2[1])\n",
    "    union_area = box1_area + box2_area - inter_area\n",
    "    if union_area == 0:\n",
    "        return 0.0\n",
    "    return inter_area / union_area\n",
    "\n",
    "def compute_image_iou(preds, gts):\n",
    "    if len(preds) == 0 or len(gts) == 0:\n",
    "        return 0.0\n",
    "    ious = []\n",
    "    for gt in gts:\n",
    "        best_iou = 0.0\n",
    "        for pred in preds:\n",
    "            iou = compute_iou(pred, gt)\n",
    "            if iou > best_iou:\n",
    "                best_iou = iou\n",
    "        ious.append(best_iou)\n",
    "    return np.mean(ious)"
   ]
  },
  {
   "cell_type": "code",
   "execution_count": null,
   "id": "969a324d",
   "metadata": {},
   "outputs": [],
   "source": [
    "perturbations = [\n",
    "    (add_gaussian_noise, {\"std\": 30}),\n",
    "    (add_salt_pepper_noise, {\"prob\": 0.05}),\n",
    "    (change_brightness, {\"factor\": 0.5}),\n",
    "    (apply_blur, {\"ksize\": 25}),\n",
    "    (rotate_image, {\"angle\": 45}),\n",
    "    (occlude_image, {\"size\": 100})\n",
    "]\n",
    "\n",
    "for perturb_fn, params in perturbations:\n",
    "    perturbed_img = perturb_fn(img, **params)\n",
    "    show_img(perturbed_img, title=f\"Perturbed: {perturb_fn.__name__}\")\n",
    "    preds = run_inference(perturbed_img)\n",
    "    iou = compute_image_iou(preds, gts)\n",
    "    print(f\"IoU for {perturb_fn.__name__}: {iou}\")"
   ]
  }
 ],
 "metadata": {
  "kernelspec": {
   "display_name": "Python 3",
   "language": "python",
   "name": "python3"
  },
  "language_info": {
   "codemirror_mode": {
    "name": "ipython",
    "version": 3
   },
   "file_extension": ".py",
   "mimetype": "text/x-python",
   "name": "python",
   "nbconvert_exporter": "python",
   "pygments_lexer": "ipython3",
   "version": "3.12.9"
  }
 },
 "nbformat": 4,
 "nbformat_minor": 5
}
