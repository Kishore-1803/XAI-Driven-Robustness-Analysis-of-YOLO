{
 "cells": [
  {
   "cell_type": "code",
   "execution_count": null,
   "id": "c76fdd2c",
   "metadata": {},
   "outputs": [],
   "source": [
    "import os\n",
    "import random\n",
    "import shutil\n",
    "from pathlib import Path\n",
    "import yaml\n",
    "from ultralytics import YOLO"
   ]
  },
  {
   "cell_type": "code",
   "execution_count": null,
   "id": "abc54e62",
   "metadata": {},
   "outputs": [],
   "source": [
    "base_path = Path(\"PATH_TO_AUGMENTED_DATA\")\n",
    "images_path = base_path / \"images\"\n",
    "labels_path = base_path / \"labels\"\n",
    "\n",
    "split_base = Path(\"PATH_TO_SPLIT_DATA\")\n",
    "for split in [\"train\", \"val\", \"test\"]:\n",
    "    (split_base / split / \"images\").mkdir(parents=True, exist_ok=True)\n",
    "    (split_base / split / \"labels\").mkdir(parents=True, exist_ok=True)\n",
    "\n",
    "all_images = sorted(os.listdir(images_path))\n",
    "random.shuffle(all_images)\n",
    "\n",
    "train_ratio, val_ratio, test_ratio = 0.7, 0.2, 0.1\n",
    "n = len(all_images)\n",
    "train_end = int(train_ratio * n)\n",
    "val_end = int((train_ratio + val_ratio) * n)\n",
    "\n",
    "train_files = all_images[:train_end]\n",
    "val_files = all_images[train_end:val_end]\n",
    "test_files = all_images[val_end:]\n",
    "\n",
    "def move_files(file_list, split):\n",
    "    for f in file_list:\n",
    "        img_src = images_path / f\n",
    "        label_src = labels_path / f.replace(\".png\", \".txt\")\n",
    "        img_dst = split_base / split / \"images\" / f\n",
    "        label_dst = split_base / split / \"labels\" / f.replace(\".png\", \".txt\")\n",
    "        shutil.copy(img_src, img_dst)\n",
    "        shutil.copy(label_src, label_dst)\n",
    "\n",
    "move_files(train_files, \"train\")\n",
    "move_files(val_files, \"val\")\n",
    "move_files(test_files, \"test\")\n",
    "\n",
    "print(f\"Split completed: {len(train_files)} train, {len(val_files)} val, {len(test_files)} test\")"
   ]
  },
  {
   "cell_type": "code",
   "execution_count": null,
   "id": "b9056b50",
   "metadata": {},
   "outputs": [],
   "source": [
    "model = YOLO(\"PATH_TO_YOLO_WEIGHTS\")\n",
    "train_results = model.train(\n",
    "    data=\"PATH_TO_DATASET_YAML\",\n",
    "    epochs=100,\n",
    "    imgsz=416,\n",
    "    device=\"cuda\",\n",
    "    patience=10\n",
    "    )"
   ]
  },
  {
   "cell_type": "code",
   "execution_count": null,
   "id": "ab1a948c",
   "metadata": {},
   "outputs": [],
   "source": [
    "metrics = model.val()"
   ]
  },
  {
   "cell_type": "code",
   "execution_count": null,
   "id": "92b51c67",
   "metadata": {},
   "outputs": [],
   "source": [
    "results = model(\"PATH_TO_TEST_IMAGE\")\n",
    "results[0].show()"
   ]
  },
  {
   "cell_type": "code",
   "execution_count": null,
   "id": "3f7eb050",
   "metadata": {},
   "outputs": [],
   "source": [
    "model.export(format=\"onnx\")"
   ]
  }
 ],
 "metadata": {
  "kernelspec": {
   "display_name": "Python 3",
   "language": "python",
   "name": "python3"
  },
  "language_info": {
   "codemirror_mode": {
    "name": "ipython",
    "version": 3
   },
   "file_extension": ".py",
   "mimetype": "text/x-python",
   "name": "python",
   "nbconvert_exporter": "python",
   "pygments_lexer": "ipython3",
   "version": "3.12.9"
  }
 },
 "nbformat": 4,
 "nbformat_minor": 5
}
