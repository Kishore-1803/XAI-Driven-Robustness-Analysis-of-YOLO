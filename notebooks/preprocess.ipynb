{
 "cells": [
  {
   "cell_type": "code",
   "execution_count": null,
   "id": "ef27e253",
   "metadata": {},
   "outputs": [],
   "source": [
    "import os\n",
    "import cv2\n",
    "import numpy as np\n",
    "from tqdm import tqdm\n",
    "import matplotlib.pyplot as plt"
   ]
  },
  {
   "cell_type": "code",
   "execution_count": null,
   "id": "0f56e9f1",
   "metadata": {},
   "outputs": [],
   "source": [
    "image_dir = 'PATH_TO_RAW_IMAGE_DIR'\n",
    "label_dir = 'PATH_TO_RAW_LABEL_DIR'\n",
    "output_image_dir = 'PATH_TO_PROCESSED_IMAGE_DIR'\n",
    "output_label_dir = 'PATH_TO_PROCESSED_LABEL_DIR'"
   ]
  },
  {
   "cell_type": "code",
   "execution_count": null,
   "id": "8eec5db0",
   "metadata": {},
   "outputs": [],
   "source": [
    "os.makedirs(output_image_dir, exist_ok=True)\n",
    "os.makedirs(output_label_dir, exist_ok=True)"
   ]
  },
  {
   "cell_type": "code",
   "execution_count": null,
   "id": "cc53cbbc",
   "metadata": {},
   "outputs": [],
   "source": [
    "IMG_SIZE = 640"
   ]
  },
  {
   "cell_type": "code",
   "execution_count": null,
   "id": "89ed7c09",
   "metadata": {},
   "outputs": [],
   "source": [
    "def load_and_resize_image(image_path):\n",
    "    \"\"\"Load an image and resize it to the target size.\"\"\"\n",
    "    img = cv2.imread(image_path)\n",
    "    img_resized = cv2.resize(img, (IMG_SIZE, IMG_SIZE))  # Resize image to IMG_SIZE\n",
    "    return img_resized"
   ]
  },
  {
   "cell_type": "code",
   "execution_count": null,
   "id": "76c285c5",
   "metadata": {},
   "outputs": [],
   "source": [
    "def load_and_parse_labels(label_path):\n",
    "    class_mapping = {\n",
    "        \"Car\": 1,\n",
    "        \"Van\": 2,\n",
    "        \"Truck\": 3,\n",
    "        \"Pedestrian\": 4,\n",
    "        \"Person\": 5,\n",
    "        \"Cyclist\": 6,\n",
    "        \"Motorcyclist\": 7,\n",
    "        \"Road_sign\": 8\n",
    "    }\n",
    "    boxes = []\n",
    "    with open(label_path, 'r') as file:\n",
    "        for line in file.readlines():\n",
    "            parts = line.strip().split()\n",
    "            if len(parts) < 8:\n",
    "                continue\n",
    "            cls_name = parts[0]\n",
    "            if cls_name in class_mapping:\n",
    "                cls = class_mapping[cls_name]\n",
    "            else:\n",
    "                continue\n",
    "            try:\n",
    "                xmin, ymin, xmax, ymax = map(float, parts[4:8])\n",
    "            except ValueError:\n",
    "                continue\n",
    "            boxes.append([cls, xmin, ymin, xmax, ymax])\n",
    "    return boxes"
   ]
  },
  {
   "cell_type": "code",
   "execution_count": null,
   "id": "e85258b1",
   "metadata": {},
   "outputs": [],
   "source": [
    "image_files = sorted(os.listdir(image_dir))\n",
    "for image_file in tqdm(image_files, desc=\"Processing Images\"):\n",
    "    image_path = os.path.join(image_dir, image_file)\n",
    "    img = cv2.imread(image_path)\n",
    "    orig_h, orig_w = img.shape[:2]\n",
    "    img_resized = cv2.resize(img, (IMG_SIZE, IMG_SIZE))\n",
    "    output_img_path = os.path.join(output_image_dir, image_file)\n",
    "    cv2.imwrite(output_img_path, img_resized)\n",
    "    label_file = image_file.replace('.png', '.txt')\n",
    "    label_path = os.path.join(label_dir, label_file)\n",
    "    boxes = load_and_parse_labels(label_path)\n",
    "    x_scale = IMG_SIZE / orig_w\n",
    "    y_scale = IMG_SIZE / orig_h\n",
    "    scaled_boxes = []\n",
    "    for box in boxes:\n",
    "        cls, xmin, ymin, xmax, ymax = box\n",
    "        xmin = max(0, min(IMG_SIZE, int(xmin * x_scale)))\n",
    "        ymin = max(0, min(IMG_SIZE, int(ymin * y_scale)))\n",
    "        xmax = max(0, min(IMG_SIZE, int(xmax * x_scale)))\n",
    "        ymax = max(0, min(IMG_SIZE, int(ymax * y_scale)))\n",
    "        if xmin < xmax and ymin < ymax:\n",
    "            scaled_boxes.append([cls, xmin, ymin, xmax, ymax])\n",
    "    output_label_path = os.path.join(output_label_dir, label_file)\n",
    "    with open(output_label_path, 'w') as out_file:\n",
    "        for box in scaled_boxes:\n",
    "            out_file.write(' '.join(map(str, box)) + '\\n')\n",
    "print(\"Preprocessing complete!\")"
   ]
  },
  {
   "cell_type": "code",
   "execution_count": null,
   "id": "625c8af3",
   "metadata": {},
   "outputs": [],
   "source": [
    "import random\n",
    "def plot_image_with_boxes(image_path, label_path):\n",
    "    image = cv2.imread(image_path)\n",
    "    with open(label_path, 'r') as file:\n",
    "        boxes = [line.strip().split() for line in file.readlines()]\n",
    "    for box in boxes:\n",
    "        if len(box) != 5:\n",
    "            continue\n",
    "        cls = int(box[0])\n",
    "        xmin, ymin, xmax, ymax = map(int, map(float, box[1:]))\n",
    "        if xmin >= xmax or ymin >= ymax:\n",
    "            continue\n",
    "        cv2.rectangle(image, (xmin, ymin), (xmax, ymax), (0, 255, 0), 2)\n",
    "    image_rgb = cv2.cvtColor(image, cv2.COLOR_BGR2RGB)\n",
    "    plt.figure(figsize=(8, 8))\n",
    "    plt.imshow(image_rgb)\n",
    "    plt.axis('off')\n",
    "    plt.show()\n",
    "preprocessed_image_folder = 'PATH_TO_PROCESSED_IMAGE_DIR'\n",
    "preprocessed_label_folder = 'PATH_TO_PROCESSED_LABEL_DIR'\n",
    "image_file = 'PATH_TO_IMAGE_FILE'\n",
    "image_path = os.path.join(preprocessed_image_folder, image_file)\n",
    "label_path = os.path.join(preprocessed_label_folder, image_file.replace('.png', '.txt'))\n",
    "plot_image_with_boxes(image_path, label_path)"
   ]
  }
 ],
 "metadata": {
  "kernelspec": {
   "display_name": "Python 3",
   "language": "python",
   "name": "python3"
  },
  "language_info": {
   "codemirror_mode": {
    "name": "ipython",
    "version": 3
   },
   "file_extension": ".py",
   "mimetype": "text/x-python",
   "name": "python",
   "nbconvert_exporter": "python",
   "pygments_lexer": "ipython3",
   "version": "3.12.9"
  }
 },
 "nbformat": 4,
 "nbformat_minor": 5
}
