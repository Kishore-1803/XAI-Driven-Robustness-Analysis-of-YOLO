{
 "cells": [
  {
   "cell_type": "code",
   "execution_count": null,
   "id": "73b35a53",
   "metadata": {},
   "outputs": [],
   "source": [
    "import torch\n",
    "import cv2\n",
    "import numpy as np\n",
    "import matplotlib.pyplot as plt\n",
    "from ultralytics import YOLO"
   ]
  },
  {
   "cell_type": "code",
   "execution_count": null,
   "id": "410498c8",
   "metadata": {},
   "outputs": [],
   "source": [
    "model = YOLO(\"PATH_TO_BEST_PT\")"
   ]
  },
  {
   "cell_type": "code",
   "execution_count": null,
   "id": "5cc94e30",
   "metadata": {},
   "outputs": [],
   "source": [
    "img_path = \"PATH_TO_IMAGE\"\n",
    "img = cv2.imread(img_path)\n",
    "img_resized = cv2.resize(img, (416, 416))\n",
    "img_tensor = torch.from_numpy(img_resized).permute(2,0,1).unsqueeze(0).float() / 255.0\n",
    "img_tensor.requires_grad_()"
   ]
  },
  {
   "cell_type": "code",
   "execution_count": null,
   "id": "ced0b7eb",
   "metadata": {},
   "outputs": [],
   "source": [
    "preds = model.model(img_tensor)[0]\n",
    "num_classes = preds.shape[1] - 5"
   ]
  },
  {
   "cell_type": "code",
   "execution_count": null,
   "id": "50c167aa",
   "metadata": {},
   "outputs": [],
   "source": [
    "plt.figure(figsize=(5, 4))\n",
    "plt.title(\"Original\")\n",
    "plt.imshow(cv2.cvtColor(img_resized, cv2.COLOR_BGR2RGB))\n",
    "plt.axis('off')\n",
    "plt.show()"
   ]
  },
  {
   "cell_type": "code",
   "execution_count": null,
   "id": "327087f3",
   "metadata": {},
   "outputs": [],
   "source": [
    "for class_idx in range(num_classes):\n",
    "    model.model.zero_grad()\n",
    "    img_tensor.grad = None\n",
    "    score = preds[0, 5 + class_idx]\n",
    "    score_scalar = score.max()\n",
    "    score_scalar.backward(retain_graph=True)\n",
    "    saliency = img_tensor.grad.data.abs().squeeze().cpu().numpy()\n",
    "    saliency = np.max(saliency, axis=0)\n",
    "    saliency = (saliency - saliency.min()) / (saliency.max() - saliency.min() + 1e-8)\n",
    "    plt.figure(figsize=(5, 4))\n",
    "    plt.title(f\"Class {class_idx} Saliency\")\n",
    "    plt.imshow(saliency, cmap=\"hot\")\n",
    "    plt.axis('off')\n",
    "    plt.show()"
   ]
  }
 ],
 "metadata": {
  "kernelspec": {
   "display_name": "Python 3",
   "language": "python",
   "name": "python3"
  },
  "language_info": {
   "codemirror_mode": {
    "name": "ipython",
    "version": 3
   },
   "file_extension": ".py",
   "mimetype": "text/x-python",
   "name": "python",
   "nbconvert_exporter": "python",
   "pygments_lexer": "ipython3",
   "version": "3.12.9"
  }
 },
 "nbformat": 4,
 "nbformat_minor": 5
}
