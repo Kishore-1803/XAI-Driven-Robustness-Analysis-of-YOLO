{
 "cells": [
  {
   "cell_type": "code",
   "execution_count": 1,
   "id": "63af6615",
   "metadata": {},
   "outputs": [
    {
     "name": "stderr",
     "output_type": "stream",
     "text": [
      "c:\\Users\\kisho\\AppData\\Local\\Programs\\Python\\Python312\\Lib\\site-packages\\tqdm\\auto.py:21: TqdmWarning: IProgress not found. Please update jupyter and ipywidgets. See https://ipywidgets.readthedocs.io/en/stable/user_install.html\n",
      "  from .autonotebook import tqdm as notebook_tqdm\n"
     ]
    }
   ],
   "source": [
    "import cv2\n",
    "import os\n",
    "import random\n",
    "import numpy as np\n",
    "import albumentations as A\n",
    "import matplotlib.pyplot as plt\n",
    "from matplotlib import patches\n"
   ]
  },
  {
   "cell_type": "code",
   "execution_count": null,
   "id": "8730cf9a",
   "metadata": {},
   "outputs": [],
   "source": [
    "augmentation_pipeline = A.Compose([\n",
    "    A.HorizontalFlip(p=0.5),\n",
    "    A.Rotate(limit=30, p=0.7),\n",
    "    A.RandomBrightnessContrast(p=0.5),\n",
    "    A.GaussianBlur(p=0.2),\n",
    "    A.HueSaturationValue(p=0.3),\n",
    "    A.CLAHE(clip_limit=2.0, tile_grid_size=(8, 8), p=0.2),\n",
    "], bbox_params=A.BboxParams(format='yolo', label_fields=['category_ids']))"
   ]
  },
  {
   "cell_type": "code",
   "execution_count": null,
   "id": "d63d0a67",
   "metadata": {},
   "outputs": [],
   "source": [
    "def visualize(image, boxes):\n",
    "    fig, ax = plt.subplots(1, figsize=(10, 10))\n",
    "    ax.imshow(image)\n",
    "    for box in boxes:\n",
    "        xmin, ymin, xmax, ymax = map(int, box[1:])\n",
    "        rect = patches.Rectangle((xmin, ymin), xmax - xmin, ymax - ymin,\n",
    "                                 linewidth=2, edgecolor='r', facecolor='none')\n",
    "        ax.add_patch(rect)\n",
    "    plt.show()"
   ]
  },
  {
   "cell_type": "code",
   "execution_count": null,
   "id": "7b8b5e4c",
   "metadata": {},
   "outputs": [],
   "source": [
    "def normalize_bboxes(image, boxes):\n",
    "    height, width = image.shape[:2]\n",
    "    normalized_boxes = []\n",
    "    for box in boxes:\n",
    "        cls, xmin, ymin, xmax, ymax = box\n",
    "        xmin /= width\n",
    "        ymin /= height\n",
    "        xmax /= width\n",
    "        ymax /= height\n",
    "        normalized_boxes.append([cls, xmin, ymin, xmax, ymax])\n",
    "    return normalized_boxes"
   ]
  },
  {
   "cell_type": "code",
   "execution_count": null,
   "id": "11242ea5",
   "metadata": {},
   "outputs": [],
   "source": [
    "def clip_normalized_bboxes(boxes):\n",
    "    clipped_boxes = []\n",
    "    for box in boxes:\n",
    "        cls, xmin, ymin, xmax, ymax = box\n",
    "        xmin = max(0.0, min(xmin, 1.0))\n",
    "        ymin = max(0.0, min(ymin, 1.0))\n",
    "        xmax = max(0.0, min(xmax, 1.0))\n",
    "        ymax = max(0.0, min(ymax, 1.0))\n",
    "        clipped_boxes.append([cls, xmin, ymin, xmax, ymax])\n",
    "    return clipped_boxes"
   ]
  },
  {
   "cell_type": "code",
   "execution_count": null,
   "id": "080c468a",
   "metadata": {},
   "outputs": [],
   "source": [
    "def filter_invalid_bboxes(boxes):\n",
    "    filtered = []\n",
    "    for box in boxes:\n",
    "        cls, xmin, ymin, xmax, ymax = box\n",
    "        if xmax > xmin and ymax > ymin:\n",
    "            filtered.append([cls, xmin, ymin, xmax, ymax])\n",
    "    return filtered"
   ]
  },
  {
   "cell_type": "code",
   "execution_count": null,
   "id": "ea1c892f",
   "metadata": {},
   "outputs": [],
   "source": [
    "def convert_to_yolo_format(boxes):\n",
    "    yolo_boxes = []\n",
    "    for box in boxes:\n",
    "        _, xmin, ymin, xmax, ymax = box\n",
    "        x_center = (xmin + xmax) / 2\n",
    "        y_center = (ymin + ymax) / 2\n",
    "        width = xmax - xmin\n",
    "        height = ymax - ymin\n",
    "        yolo_boxes.append([x_center, y_center, width, height])\n",
    "    return yolo_boxes"
   ]
  },
  {
   "cell_type": "code",
   "execution_count": null,
   "id": "6dd3dcf9",
   "metadata": {},
   "outputs": [],
   "source": [
    "def augment_image(image, boxes):\n",
    "    normalized_bboxes = normalize_bboxes(image, boxes)\n",
    "    normalized_bboxes = clip_normalized_bboxes(normalized_bboxes)\n",
    "    normalized_bboxes = filter_invalid_bboxes(normalized_bboxes)\n",
    "    yolo_bboxes = convert_to_yolo_format(normalized_bboxes)\n",
    "    transformed = augmentation_pipeline(\n",
    "        image=image,\n",
    "        bboxes=yolo_bboxes,\n",
    "        category_ids=[box[0] for box in normalized_bboxes]\n",
    "    )\n",
    "    transformed_image = transformed['image']\n",
    "    transformed_bboxes = transformed['bboxes']\n",
    "    return transformed_image, transformed_bboxes"
   ]
  },
  {
   "cell_type": "code",
   "execution_count": null,
   "id": "7de75cef",
   "metadata": {},
   "outputs": [],
   "source": [
    "image_dir = 'PATH_TO_PROCESSED_IMAGE_DIR'\n",
    "label_dir = 'PATH_TO_LABEL_DIR'\n",
    "\n",
    "image_file = random.choice(os.listdir(image_dir))\n",
    "image_path = os.path.join(image_dir, image_file)\n",
    "label_path = os.path.join(label_dir, image_file.replace('.png', '.txt'))\n",
    "\n",
    "image = cv2.imread(image_path)\n",
    "image = cv2.cvtColor(image, cv2.COLOR_BGR2RGB)\n",
    "\n",
    "boxes = []\n",
    "with open(label_path, 'r') as label_file:\n",
    "    for line in label_file.readlines():\n",
    "        parts = line.strip().split()\n",
    "        cls = int(parts[0])\n",
    "        xmin, ymin, xmax, ymax = map(float, parts[1:])\n",
    "        boxes.append([cls, xmin, ymin, xmax, ymax])\n",
    "\n",
    "augmented_image, augmented_bboxes = augment_image(image, boxes)"
   ]
  },
  {
   "cell_type": "code",
   "execution_count": null,
   "id": "f1bf9ffd",
   "metadata": {},
   "outputs": [],
   "source": [
    "def yolo_to_xyxy(bboxes, class_ids, img_width, img_height):\n",
    "    result = []\n",
    "    for bbox, cls in zip(bboxes, class_ids):\n",
    "        x_c, y_c, w, h = bbox\n",
    "        xmin = int((x_c - w / 2) * img_width)\n",
    "        ymin = int((y_c - h / 2) * img_height)\n",
    "        xmax = int((x_c + w / 2) * img_width)\n",
    "        ymax = int((y_c + h / 2) * img_height)\n",
    "        result.append([cls, xmin, ymin, xmax, ymax])\n",
    "    return result"
   ]
  },
  {
   "cell_type": "code",
   "execution_count": null,
   "id": "26d74c4d",
   "metadata": {},
   "outputs": [],
   "source": [
    "image_file = \"PATH_TO_IMAGE_FILE\"\n",
    "image_path = os.path.join(image_dir, image_file)\n",
    "label_path = os.path.join(label_dir, image_file.replace('.png', '.txt'))\n",
    "image = cv2.imread(image_path)\n",
    "image = cv2.cvtColor(image, cv2.COLOR_BGR2RGB)\n",
    "boxes = []\n",
    "with open(label_path, 'r') as label_file:\n",
    "    for line in label_file.readlines():\n",
    "        parts = line.strip().split()\n",
    "        cls = int(parts[0])\n",
    "        xmin, ymin, xmax, ymax = map(float, parts[1:])\n",
    "        boxes.append([cls, xmin, ymin, xmax, ymax])\n",
    "augmented_image, augmented_bboxes = augment_image(image, boxes)\n",
    "print(\"Augmented vis_bboxes:\", augmented_bboxes)\n",
    "h0, w0 = image.shape[:2]\n",
    "orig_vis_bboxes = [[*box] for box in boxes]\n",
    "visualize(image, orig_vis_bboxes)\n",
    "aug_class_ids = [box[0] for box in boxes]\n",
    "aug_vis_bboxes = yolo_to_xyxy(augmented_bboxes, aug_class_ids, w0, h0)\n",
    "visualize(augmented_image, aug_vis_bboxes)"
   ]
  },
  {
   "cell_type": "code",
   "execution_count": null,
   "id": "cfa3c3f1",
   "metadata": {},
   "outputs": [],
   "source": [
    "def save_augmented_image_and_labels(augmented_image, augmented_bboxes, class_ids, image_path, label_path, images_output_dir, labels_output_dir):\n",
    "    augmented_image_path = os.path.join(images_output_dir, os.path.basename(image_path))\n",
    "    augmented_image_bgr = cv2.cvtColor(augmented_image, cv2.COLOR_RGB2BGR)\n",
    "    cv2.imwrite(augmented_image_path, augmented_image_bgr)\n",
    "    augmented_label_path = os.path.join(labels_output_dir, os.path.basename(label_path))\n",
    "    with open(augmented_label_path, 'w') as f:\n",
    "        for bbox, cls in zip(augmented_bboxes, class_ids):\n",
    "            x_center, y_center, width, height = bbox\n",
    "            f.write(f\"{cls} {x_center} {y_center} {width} {height}\\n\")\n",
    "output_dir = 'PATH_TO_AUGMENTED_DATA'\n",
    "images_output_dir = os.path.join(output_dir, \"images\")\n",
    "labels_output_dir = os.path.join(output_dir, \"labels\")\n",
    "os.makedirs(images_output_dir, exist_ok=True)\n",
    "os.makedirs(labels_output_dir, exist_ok=True)"
   ]
  },
  {
   "cell_type": "code",
   "execution_count": null,
   "id": "17bb49fe",
   "metadata": {},
   "outputs": [],
   "source": [
    "for image_file in os.listdir(image_dir):\n",
    "    image_path = os.path.join(image_dir, image_file)\n",
    "    label_path = os.path.join(label_dir, image_file.replace('.png', '.txt'))\n",
    "    image = cv2.imread(image_path)\n",
    "    image = cv2.cvtColor(image, cv2.COLOR_BGR2RGB)\n",
    "    boxes = []\n",
    "    with open(label_path, 'r') as label_file:\n",
    "        for line in label_file.readlines():\n",
    "            parts = line.strip().split()\n",
    "            cls = int(parts[0])\n",
    "            xmin, ymin, xmax, ymax = map(float, parts[1:])\n",
    "            boxes.append([cls, xmin, ymin, xmax, ymax])\n",
    "    transformed = augmentation_pipeline(\n",
    "        image=image,\n",
    "        bboxes=convert_to_yolo_format(normalize_bboxes(image, boxes)),\n",
    "        category_ids=[box[0] for box in boxes]\n",
    "    )\n",
    "    augmented_image = transformed['image']\n",
    "    augmented_bboxes = transformed['bboxes']\n",
    "    augmented_class_ids = transformed['category_ids']\n",
    "    save_augmented_image_and_labels(\n",
    "        augmented_image, augmented_bboxes, augmented_class_ids,\n",
    "        image_path, label_path, images_output_dir, labels_output_dir\n",
    "    )"
   ]
  },
  {
   "cell_type": "code",
   "execution_count": null,
   "id": "51f13a57",
   "metadata": {},
   "outputs": [],
   "source": [
    "random_image_file = random.choice(os.listdir(os.path.join(output_dir, 'images')))\n",
    "random_image_path = os.path.join(output_dir, 'images', random_image_file)\n",
    "random_label_path = os.path.join(output_dir, 'labels', random_image_file.replace('.png', '.txt'))\n",
    "aug_image = cv2.imread(random_image_path)\n",
    "aug_image = cv2.cvtColor(aug_image, cv2.COLOR_BGR2RGB)\n",
    "aug_boxes = []\n",
    "with open(random_label_path, 'r') as label_file:\n",
    "    for line in label_file.readlines():\n",
    "        parts = line.strip().split()\n",
    "        cls = int(float(parts[0]))\n",
    "        x_center, y_center, width, height = map(float, parts[1:])\n",
    "        img_h, img_w = aug_image.shape[:2]\n",
    "        xmin = int((x_center - width / 2) * img_w)\n",
    "        ymin = int((y_center - height / 2) * img_h)\n",
    "        xmax = int((x_center + width / 2) * img_w)\n",
    "        ymax = int((y_center + height / 2) * img_h)\n",
    "        aug_boxes.append([cls, xmin, ymin, xmax, ymax])\n",
    "visualize(aug_image, aug_boxes)"
   ]
  }
 ],
 "metadata": {
  "kernelspec": {
   "display_name": "Python 3",
   "language": "python",
   "name": "python3"
  },
  "language_info": {
   "codemirror_mode": {
    "name": "ipython",
    "version": 3
   },
   "file_extension": ".py",
   "mimetype": "text/x-python",
   "name": "python",
   "nbconvert_exporter": "python",
   "pygments_lexer": "ipython3",
   "version": "3.12.9"
  }
 },
 "nbformat": 4,
 "nbformat_minor": 5
}
